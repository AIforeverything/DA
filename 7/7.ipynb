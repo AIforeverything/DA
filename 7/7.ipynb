{
 "cells": [
  {
   "cell_type": "markdown",
   "id": "fab03088-3acf-42d6-86ea-d08afde52cab",
   "metadata": {},
   "source": [
    "1.For the titanic dataset perform the hypothesis testing to claim that there is a\n",
    "significant difference between  proportions of survived females to that of survived\n",
    "males.\n",
    "\n",
    "2.For the iris dataset perform the ANOVA testing.\n",
    "“Normally, species variable put as dependent variable to do classification. But species also can put as independent variable to conduct ANOVA test. Conduct the statistical test that figures out three or more differences in group means."
   ]
  },
  {
   "cell_type": "code",
   "execution_count": 1,
   "id": "4cdfb5a7-5f9c-4e68-8f4d-58f5b7af617b",
   "metadata": {},
   "outputs": [],
   "source": [
    "import pandas as pd\n",
    "import numpy as np\n",
    "import matplotlib.pyplot as plt\n",
    "import seaborn as sns\n",
    "import scipy.stats "
   ]
  },
  {
   "cell_type": "markdown",
   "id": "e50aa9d4-eeac-47fb-b290-386f837ddfc6",
   "metadata": {},
   "source": [
    "1.For the titanic dataset perform the hypothesis testing to claim that there is a significant difference between proportions of survived females to that of survived males."
   ]
  },
  {
   "cell_type": "code",
   "execution_count": 2,
   "id": "14235cd8-38a7-4eed-af59-082553d6af8d",
   "metadata": {},
   "outputs": [
    {
     "data": {
      "text/html": [
       "<div>\n",
       "<style scoped>\n",
       "    .dataframe tbody tr th:only-of-type {\n",
       "        vertical-align: middle;\n",
       "    }\n",
       "\n",
       "    .dataframe tbody tr th {\n",
       "        vertical-align: top;\n",
       "    }\n",
       "\n",
       "    .dataframe thead th {\n",
       "        text-align: right;\n",
       "    }\n",
       "</style>\n",
       "<table border=\"1\" class=\"dataframe\">\n",
       "  <thead>\n",
       "    <tr style=\"text-align: right;\">\n",
       "      <th></th>\n",
       "      <th>PassengerId</th>\n",
       "      <th>Survived</th>\n",
       "      <th>Pclass</th>\n",
       "      <th>Name</th>\n",
       "      <th>Sex</th>\n",
       "      <th>Age</th>\n",
       "      <th>SibSp</th>\n",
       "      <th>Parch</th>\n",
       "      <th>Ticket</th>\n",
       "      <th>Fare</th>\n",
       "      <th>Cabin</th>\n",
       "      <th>Embarked</th>\n",
       "    </tr>\n",
       "  </thead>\n",
       "  <tbody>\n",
       "    <tr>\n",
       "      <th>0</th>\n",
       "      <td>1</td>\n",
       "      <td>0</td>\n",
       "      <td>3</td>\n",
       "      <td>Braund, Mr. Owen Harris</td>\n",
       "      <td>male</td>\n",
       "      <td>22.0</td>\n",
       "      <td>1</td>\n",
       "      <td>0</td>\n",
       "      <td>A/5 21171</td>\n",
       "      <td>7.2500</td>\n",
       "      <td>NaN</td>\n",
       "      <td>S</td>\n",
       "    </tr>\n",
       "    <tr>\n",
       "      <th>1</th>\n",
       "      <td>2</td>\n",
       "      <td>1</td>\n",
       "      <td>1</td>\n",
       "      <td>Cumings, Mrs. John Bradley (Florence Briggs Th...</td>\n",
       "      <td>female</td>\n",
       "      <td>38.0</td>\n",
       "      <td>1</td>\n",
       "      <td>0</td>\n",
       "      <td>PC 17599</td>\n",
       "      <td>71.2833</td>\n",
       "      <td>C85</td>\n",
       "      <td>C</td>\n",
       "    </tr>\n",
       "  </tbody>\n",
       "</table>\n",
       "</div>"
      ],
      "text/plain": [
       "   PassengerId  Survived  Pclass  \\\n",
       "0            1         0       3   \n",
       "1            2         1       1   \n",
       "\n",
       "                                                Name     Sex   Age  SibSp  \\\n",
       "0                            Braund, Mr. Owen Harris    male  22.0      1   \n",
       "1  Cumings, Mrs. John Bradley (Florence Briggs Th...  female  38.0      1   \n",
       "\n",
       "   Parch     Ticket     Fare Cabin Embarked  \n",
       "0      0  A/5 21171   7.2500   NaN        S  \n",
       "1      0   PC 17599  71.2833   C85        C  "
      ]
     },
     "execution_count": 2,
     "metadata": {},
     "output_type": "execute_result"
    }
   ],
   "source": [
    "df=pd.read_csv(\"titanic.csv\")\n",
    "df.head(2)"
   ]
  },
  {
   "cell_type": "code",
   "execution_count": 3,
   "id": "64b85584-d1f6-4d53-b2ea-e169e4300567",
   "metadata": {},
   "outputs": [
    {
     "data": {
      "text/plain": [
       "PassengerId      0\n",
       "Survived         0\n",
       "Pclass           0\n",
       "Name             0\n",
       "Sex              0\n",
       "Age            177\n",
       "SibSp            0\n",
       "Parch            0\n",
       "Ticket           0\n",
       "Fare             0\n",
       "Cabin          687\n",
       "Embarked         2\n",
       "dtype: int64"
      ]
     },
     "execution_count": 3,
     "metadata": {},
     "output_type": "execute_result"
    }
   ],
   "source": [
    "df.isnull().sum()"
   ]
  },
  {
   "cell_type": "code",
   "execution_count": 4,
   "id": "faddcf7e-f982-4f3a-8c22-772c7032c353",
   "metadata": {},
   "outputs": [
    {
     "name": "stdout",
     "output_type": "stream",
     "text": [
      "<class 'pandas.core.frame.DataFrame'>\n",
      "RangeIndex: 891 entries, 0 to 890\n",
      "Data columns (total 12 columns):\n",
      " #   Column       Non-Null Count  Dtype  \n",
      "---  ------       --------------  -----  \n",
      " 0   PassengerId  891 non-null    int64  \n",
      " 1   Survived     891 non-null    int64  \n",
      " 2   Pclass       891 non-null    int64  \n",
      " 3   Name         891 non-null    object \n",
      " 4   Sex          891 non-null    object \n",
      " 5   Age          714 non-null    float64\n",
      " 6   SibSp        891 non-null    int64  \n",
      " 7   Parch        891 non-null    int64  \n",
      " 8   Ticket       891 non-null    object \n",
      " 9   Fare         891 non-null    float64\n",
      " 10  Cabin        204 non-null    object \n",
      " 11  Embarked     889 non-null    object \n",
      "dtypes: float64(2), int64(5), object(5)\n",
      "memory usage: 83.7+ KB\n"
     ]
    }
   ],
   "source": [
    "df.info()"
   ]
  },
  {
   "cell_type": "code",
   "execution_count": 5,
   "id": "e72229b8-318d-4552-885e-c07630da40cd",
   "metadata": {},
   "outputs": [],
   "source": [
    "# No null values in PassengerId and Survived columns, so we can use these columns for calculations."
   ]
  },
  {
   "cell_type": "code",
   "execution_count": 6,
   "id": "675c2e92-50c7-4183-a30a-d9fbee3fbd28",
   "metadata": {},
   "outputs": [
    {
     "name": "stdout",
     "output_type": "stream",
     "text": [
      "total_passengers: 891\n"
     ]
    }
   ],
   "source": [
    "total_passengers=df[\"PassengerId\"].count()\n",
    "print(f\"total_passengers: {total_passengers}\")"
   ]
  },
  {
   "cell_type": "code",
   "execution_count": 7,
   "id": "a7ba514e-4e1a-4c5c-b292-8b24e27851de",
   "metadata": {},
   "outputs": [
    {
     "name": "stdout",
     "output_type": "stream",
     "text": [
      "Sex\n",
      "female    233\n",
      "male      109\n",
      "Name: Survived, dtype: int64\n",
      "survived_total: 342\n"
     ]
    }
   ],
   "source": [
    "survived=df.groupby(\"Sex\")[\"Survived\"].sum()\n",
    "print(survived)\n",
    "survived_total=df.groupby(\"Sex\")[\"Survived\"].sum().sum()\n",
    "print(f\"survived_total: {survived_total}\")"
   ]
  },
  {
   "cell_type": "code",
   "execution_count": 8,
   "id": "44b0129e-0911-410d-9f26-a298ed4b0970",
   "metadata": {},
   "outputs": [
    {
     "name": "stdout",
     "output_type": "stream",
     "text": [
      "female_survived= 233\n"
     ]
    },
    {
     "name": "stderr",
     "output_type": "stream",
     "text": [
      "C:\\Users\\om\\AppData\\Local\\Temp\\ipykernel_16004\\2117234647.py:1: UserWarning: Boolean Series key will be reindexed to match DataFrame index.\n",
      "  df_female=df[df[\"Sex\"]==\"female\"][df[\"Survived\"]==1]\n"
     ]
    }
   ],
   "source": [
    "df_female=df[df[\"Sex\"]==\"female\"][df[\"Survived\"]==1]\n",
    "female_survived=df_female.Sex.count()\n",
    "print(f\"female_survived= {female_survived}\")"
   ]
  },
  {
   "cell_type": "code",
   "execution_count": 9,
   "id": "0d171115-91f2-4b54-9783-07537ab3cbc0",
   "metadata": {},
   "outputs": [
    {
     "name": "stdout",
     "output_type": "stream",
     "text": [
      "male_survived= 109\n"
     ]
    },
    {
     "name": "stderr",
     "output_type": "stream",
     "text": [
      "C:\\Users\\om\\AppData\\Local\\Temp\\ipykernel_16004\\2365788845.py:1: UserWarning: Boolean Series key will be reindexed to match DataFrame index.\n",
      "  df_male=df[df[\"Sex\"]==\"male\"][df[\"Survived\"]==1]\n"
     ]
    }
   ],
   "source": [
    "df_male=df[df[\"Sex\"]==\"male\"][df[\"Survived\"]==1]\n",
    "male_survived=df_male.Sex.count()\n",
    "print(f\"male_survived= {male_survived}\")"
   ]
  },
  {
   "cell_type": "code",
   "execution_count": 10,
   "id": "f3ef502e-81c0-443f-9f55-e746c298804a",
   "metadata": {},
   "outputs": [
    {
     "name": "stdout",
     "output_type": "stream",
     "text": [
      "male_survived_proportion= 0.122334455667789\n",
      "female_survived_proportion= 0.2615039281705948\n",
      "total_survived_proportion= 0.3838383838383838\n"
     ]
    }
   ],
   "source": [
    "male_survived_proportion=male_survived/total_passengers\n",
    "print(f\"male_survived_proportion= {male_survived_proportion}\")\n",
    "female_survived_proportion=female_survived/total_passengers\n",
    "print(f\"female_survived_proportion= {female_survived_proportion}\")\n",
    "total_survived_proportion=survived_total/total_passengers\n",
    "print(f\"total_survived_proportion= {total_survived_proportion}\")"
   ]
  },
  {
   "cell_type": "code",
   "execution_count": 11,
   "id": "7904c58d-52f8-4091-8589-d52abfff35d4",
   "metadata": {},
   "outputs": [
    {
     "data": {
      "text/plain": [
       "2.4660428371173393"
      ]
     },
     "execution_count": 11,
     "metadata": {},
     "output_type": "execute_result"
    }
   ],
   "source": [
    "p1=female_survived_proportion\n",
    "p2=male_survived_proportion\n",
    "n1=female_survived\n",
    "n2=male_survived\n",
    "p=total_survived_proportion\n",
    "nullHypothesisH0=\"nodifference\" #p1=p2\n",
    "alternativeHypothesis=\"difference\"# p1 != p2\n",
    "z=(p1-p2)/(p*(1-p)*((1/n1)+(1/n2)))**0.5\n",
    "z                   "
   ]
  },
  {
   "cell_type": "code",
   "execution_count": 12,
   "id": "88db427b-2627-49d0-a13f-40350e027423",
   "metadata": {},
   "outputs": [
    {
     "name": "stdout",
     "output_type": "stream",
     "text": [
      "z > 1.96 i.e., 2.46 so we reject the H0 , there is a significant difference between proportions of survived females to that of survived males.\n"
     ]
    }
   ],
   "source": [
    "print(\"z > 1.96 i.e., 2.46 so we reject the H0 , there is a significant difference between proportions of survived females to that of survived males.\")"
   ]
  },
  {
   "cell_type": "markdown",
   "id": "344ae984-bbad-41bd-882f-007b61c05b61",
   "metadata": {},
   "source": [
    "2.For the iris dataset perform the ANOVA testing.\n",
    "“Normally, species variable put as dependent variable to do classification. But species also can put as independent variable to conduct ANOVA test. Conduct the statistical test that figures out three or more differences in group means."
   ]
  },
  {
   "cell_type": "code",
   "execution_count": 13,
   "id": "295ddc4c-2ca5-407d-b30a-ccc551457c78",
   "metadata": {},
   "outputs": [
    {
     "data": {
      "text/html": [
       "<div>\n",
       "<style scoped>\n",
       "    .dataframe tbody tr th:only-of-type {\n",
       "        vertical-align: middle;\n",
       "    }\n",
       "\n",
       "    .dataframe tbody tr th {\n",
       "        vertical-align: top;\n",
       "    }\n",
       "\n",
       "    .dataframe thead th {\n",
       "        text-align: right;\n",
       "    }\n",
       "</style>\n",
       "<table border=\"1\" class=\"dataframe\">\n",
       "  <thead>\n",
       "    <tr style=\"text-align: right;\">\n",
       "      <th></th>\n",
       "      <th>sepal.length</th>\n",
       "      <th>sepal.width</th>\n",
       "      <th>petal.length</th>\n",
       "      <th>petal.width</th>\n",
       "      <th>variety</th>\n",
       "    </tr>\n",
       "  </thead>\n",
       "  <tbody>\n",
       "    <tr>\n",
       "      <th>0</th>\n",
       "      <td>5.1</td>\n",
       "      <td>3.5</td>\n",
       "      <td>1.4</td>\n",
       "      <td>0.2</td>\n",
       "      <td>Setosa</td>\n",
       "    </tr>\n",
       "    <tr>\n",
       "      <th>1</th>\n",
       "      <td>4.9</td>\n",
       "      <td>3.0</td>\n",
       "      <td>1.4</td>\n",
       "      <td>0.2</td>\n",
       "      <td>Setosa</td>\n",
       "    </tr>\n",
       "  </tbody>\n",
       "</table>\n",
       "</div>"
      ],
      "text/plain": [
       "   sepal.length  sepal.width  petal.length  petal.width variety\n",
       "0           5.1          3.5           1.4          0.2  Setosa\n",
       "1           4.9          3.0           1.4          0.2  Setosa"
      ]
     },
     "execution_count": 13,
     "metadata": {},
     "output_type": "execute_result"
    }
   ],
   "source": [
    "df_iris=pd.read_csv(\"iris.csv\")\n",
    "df_iris.head(2)"
   ]
  },
  {
   "cell_type": "code",
   "execution_count": 14,
   "id": "c3ba506d-5ea3-4143-bc43-0927661f760e",
   "metadata": {},
   "outputs": [
    {
     "name": "stdout",
     "output_type": "stream",
     "text": [
      "(150, 5)\n"
     ]
    }
   ],
   "source": [
    "print(df_iris.shape)"
   ]
  },
  {
   "cell_type": "markdown",
   "id": "1144203e-d490-49ac-9828-4b64823acc99",
   "metadata": {},
   "source": [
    "One-Way ANOVA in Python: One-way ANOVA (also known as “analysis of variance”) is a test that is used to find out whether there exists a statistically significant difference between the mean values of more than one group.\n",
    "Hypothesis involved:\n",
    "\n",
    "A one-way ANOVA has the below given null and alternative hypotheses:\n",
    "\n",
    "    H0 (null hypothesis): μ1 = μ2 = μ3 = … = μk (It implies that the means of all the population are equal)\n",
    "    H1 (null hypothesis): It states that there will be at least one population mean that differs from the rest\n"
   ]
  },
  {
   "cell_type": "code",
   "execution_count": 15,
   "id": "80153c2f-c433-47fb-ad77-2f6f996c0aa5",
   "metadata": {},
   "outputs": [
    {
     "data": {
      "text/plain": [
       "F_onewayResult(statistic=482.91531656927964, pvalue=4.660592480454751e-159)"
      ]
     },
     "execution_count": 15,
     "metadata": {},
     "output_type": "execute_result"
    }
   ],
   "source": [
    "from scipy.stats import f_oneway\n",
    "p1=list(df_iris[\"sepal.length\"])\n",
    "p2=list(df_iris[\"sepal.width\"])\n",
    "p3=list(df_iris[\"petal.length\"])\n",
    "p4=list(df_iris[\"petal.width\"])\n",
    "f_oneway(p1,p2,p3,p4)"
   ]
  },
  {
   "cell_type": "markdown",
   "id": "2b57d5a9-156b-4d49-83b4-9264f63dc8ba",
   "metadata": {},
   "source": [
    "Analyse the result:\n",
    "The F statistic and p-value turn out to be equal to 482.915, pvalue=4.66e-159 respectively. Since the p-value is less than 0.05 hence we would reject the null hypothesis.\n",
    "Conclude that there is a significance difference between means of different features."
   ]
  }
 ],
 "metadata": {
  "kernelspec": {
   "display_name": "Python 3 (ipykernel)",
   "language": "python",
   "name": "python3"
  },
  "language_info": {
   "codemirror_mode": {
    "name": "ipython",
    "version": 3
   },
   "file_extension": ".py",
   "mimetype": "text/x-python",
   "name": "python",
   "nbconvert_exporter": "python",
   "pygments_lexer": "ipython3",
   "version": "3.12.6"
  }
 },
 "nbformat": 4,
 "nbformat_minor": 5
}
