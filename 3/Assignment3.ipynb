{
 "cells": [
  {
   "cell_type": "code",
   "execution_count": 1,
   "id": "7ca5ad96-5575-46e7-a04c-b57cd9be2d6d",
   "metadata": {},
   "outputs": [],
   "source": [
    "# importing packages\n",
    "import pandas as pd\n",
    "import numpy as np\n",
    "import matplotlib.pyplot as plt\n",
    "import seaborn as sns"
   ]
  },
  {
   "cell_type": "code",
   "execution_count": 2,
   "id": "993f6dec-9c12-4a37-87b3-bc2b0b8e161f",
   "metadata": {},
   "outputs": [
    {
     "data": {
      "text/html": [
       "<div>\n",
       "<style scoped>\n",
       "    .dataframe tbody tr th:only-of-type {\n",
       "        vertical-align: middle;\n",
       "    }\n",
       "\n",
       "    .dataframe tbody tr th {\n",
       "        vertical-align: top;\n",
       "    }\n",
       "\n",
       "    .dataframe thead th {\n",
       "        text-align: right;\n",
       "    }\n",
       "</style>\n",
       "<table border=\"1\" class=\"dataframe\">\n",
       "  <thead>\n",
       "    <tr style=\"text-align: right;\">\n",
       "      <th></th>\n",
       "      <th>Unnamed: 0</th>\n",
       "      <th>drugName</th>\n",
       "      <th>condition</th>\n",
       "      <th>review</th>\n",
       "      <th>rating</th>\n",
       "      <th>date</th>\n",
       "      <th>usefulCount</th>\n",
       "      <th>drug_class</th>\n",
       "      <th>sentiment</th>\n",
       "      <th>sentiment_label</th>\n",
       "    </tr>\n",
       "  </thead>\n",
       "  <tbody>\n",
       "    <tr>\n",
       "      <th>0</th>\n",
       "      <td>206461</td>\n",
       "      <td>Valsartan</td>\n",
       "      <td>Left Ventricular Dysfunction</td>\n",
       "      <td>\"It has no side effect, I take it in combinati...</td>\n",
       "      <td>9.0</td>\n",
       "      <td>May 20, 2012</td>\n",
       "      <td>27</td>\n",
       "      <td>arb blocker</td>\n",
       "      <td>0.000000</td>\n",
       "      <td>neutral</td>\n",
       "    </tr>\n",
       "    <tr>\n",
       "      <th>1</th>\n",
       "      <td>95260</td>\n",
       "      <td>Guanfacine</td>\n",
       "      <td>ADHD</td>\n",
       "      <td>\"My son is halfway through his fourth week of ...</td>\n",
       "      <td>8.0</td>\n",
       "      <td>April 27, 2010</td>\n",
       "      <td>192</td>\n",
       "      <td>NaN</td>\n",
       "      <td>0.168333</td>\n",
       "      <td>positive</td>\n",
       "    </tr>\n",
       "    <tr>\n",
       "      <th>2</th>\n",
       "      <td>92703</td>\n",
       "      <td>Lybrel</td>\n",
       "      <td>Birth Control</td>\n",
       "      <td>\"I used to take another oral contraceptive, wh...</td>\n",
       "      <td>5.0</td>\n",
       "      <td>December 14, 2009</td>\n",
       "      <td>17</td>\n",
       "      <td>NaN</td>\n",
       "      <td>0.067210</td>\n",
       "      <td>positive</td>\n",
       "    </tr>\n",
       "    <tr>\n",
       "      <th>3</th>\n",
       "      <td>138000</td>\n",
       "      <td>Ortho Evra</td>\n",
       "      <td>Birth Control</td>\n",
       "      <td>\"This is my first time using any form of birth...</td>\n",
       "      <td>8.0</td>\n",
       "      <td>November 3, 2015</td>\n",
       "      <td>10</td>\n",
       "      <td>NaN</td>\n",
       "      <td>0.179545</td>\n",
       "      <td>positive</td>\n",
       "    </tr>\n",
       "    <tr>\n",
       "      <th>4</th>\n",
       "      <td>35696</td>\n",
       "      <td>Buprenorphine / naloxone</td>\n",
       "      <td>Opiate Dependence</td>\n",
       "      <td>\"Suboxone has completely turned my life around...</td>\n",
       "      <td>9.0</td>\n",
       "      <td>November 27, 2016</td>\n",
       "      <td>37</td>\n",
       "      <td>NaN</td>\n",
       "      <td>0.194444</td>\n",
       "      <td>positive</td>\n",
       "    </tr>\n",
       "  </tbody>\n",
       "</table>\n",
       "</div>"
      ],
      "text/plain": [
       "   Unnamed: 0                  drugName                     condition  \\\n",
       "0      206461                 Valsartan  Left Ventricular Dysfunction   \n",
       "1       95260                Guanfacine                          ADHD   \n",
       "2       92703                    Lybrel                 Birth Control   \n",
       "3      138000                Ortho Evra                 Birth Control   \n",
       "4       35696  Buprenorphine / naloxone             Opiate Dependence   \n",
       "\n",
       "                                              review  rating  \\\n",
       "0  \"It has no side effect, I take it in combinati...     9.0   \n",
       "1  \"My son is halfway through his fourth week of ...     8.0   \n",
       "2  \"I used to take another oral contraceptive, wh...     5.0   \n",
       "3  \"This is my first time using any form of birth...     8.0   \n",
       "4  \"Suboxone has completely turned my life around...     9.0   \n",
       "\n",
       "                date  usefulCount   drug_class  sentiment sentiment_label  \n",
       "0       May 20, 2012           27  arb blocker   0.000000         neutral  \n",
       "1     April 27, 2010          192          NaN   0.168333        positive  \n",
       "2  December 14, 2009           17          NaN   0.067210        positive  \n",
       "3   November 3, 2015           10          NaN   0.179545        positive  \n",
       "4  November 27, 2016           37          NaN   0.194444        positive  "
      ]
     },
     "execution_count": 2,
     "metadata": {},
     "output_type": "execute_result"
    }
   ],
   "source": [
    "df=pd.read_csv(\"drug_review_dataset_with_sentiment.csv\")\n",
    "df.head()"
   ]
  },
  {
   "cell_type": "code",
   "execution_count": 3,
   "id": "794e7b90-96c3-4005-8c05-a4fba32db77e",
   "metadata": {},
   "outputs": [
    {
     "data": {
      "text/plain": [
       "drugName\n",
       "Levonorgestrel                       27029.0\n",
       "Etonogestrel                         19357.0\n",
       "Ethinyl estradiol / norethindrone    15937.0\n",
       "Phentermine                          13557.0\n",
       "Ethinyl estradiol / norgestimate     12399.0\n",
       "                                      ...   \n",
       "Dong quai                                1.0\n",
       "Intron A                                 1.0\n",
       "Phenohytro                               1.0\n",
       "MVI Adult                                1.0\n",
       "TheraTears Nutrition                     1.0\n",
       "Name: rating, Length: 3436, dtype: float64"
      ]
     },
     "execution_count": 3,
     "metadata": {},
     "output_type": "execute_result"
    }
   ],
   "source": [
    "# Q1.What is the popular drug?\n",
    "df1=df.groupby('drugName')['rating'].sum()\n",
    "df1.sort_values(ascending=False)\n",
    "\n",
    "# Answer: Levonorgestrel is the popular drug"
   ]
  },
  {
   "cell_type": "code",
   "execution_count": 4,
   "id": "5495e484-2aa1-4c3a-af6f-6532a5143d25",
   "metadata": {},
   "outputs": [
    {
     "data": {
      "text/plain": [
       "23460"
      ]
     },
     "execution_count": 4,
     "metadata": {},
     "output_type": "execute_result"
    }
   ],
   "source": [
    "# Q2. what are the groups/classification of drugs used\n",
    "df['drug_class'].count()\n",
    "\n",
    "# 23461 groups/classification of drugs used"
   ]
  },
  {
   "cell_type": "code",
   "execution_count": 5,
   "id": "5737ce70-c04b-450f-8735-c70e0688e651",
   "metadata": {},
   "outputs": [
    {
     "data": {
      "text/plain": [
       "drugName\n",
       "Sertraline                         58154\n",
       "Gabapentin                         56249\n",
       "Escitalopram                       52280\n",
       "Bupropion                          50542\n",
       "Lexapro                            48328\n",
       "                                   ...  \n",
       "Noroxin                                0\n",
       "Norlyda                                0\n",
       "Betadine Aerosol Spray                 0\n",
       "Gildess 1.5 / 30                       0\n",
       "Piperonyl butoxide / pyrethrins        0\n",
       "Name: usefulCount, Length: 3436, dtype: int64"
      ]
     },
     "execution_count": 5,
     "metadata": {},
     "output_type": "execute_result"
    }
   ],
   "source": [
    "# Q3. Which drug has the best review? usefulCount\n",
    "df2=df.groupby('drugName')['usefulCount'].sum()\n",
    "df2.sort_values(ascending=False)\n",
    "# ans: Sertraline has the best review? "
   ]
  },
  {
   "cell_type": "code",
   "execution_count": 6,
   "id": "77cc7e65-d060-4f31-b877-6243888f7557",
   "metadata": {},
   "outputs": [
    {
     "data": {
      "text/plain": [
       "3436"
      ]
     },
     "execution_count": 6,
     "metadata": {},
     "output_type": "execute_result"
    }
   ],
   "source": [
    "# Q4. How many drugs do we have?\n",
    "df['drugName'].nunique()\n",
    "# Answer: 3436 drugs we have"
   ]
  },
  {
   "cell_type": "code",
   "execution_count": 7,
   "id": "3bb03b72-9e48-4e0b-922f-af0bec8ced19",
   "metadata": {},
   "outputs": [
    {
     "data": {
      "text/plain": [
       "condition\n",
       "Not Listed / Othe                              214\n",
       "Pain                                           200\n",
       "Birth Control                                  172\n",
       "High Blood Pressure                            140\n",
       "Acne                                           117\n",
       "                                              ... \n",
       "Sepsis                                           1\n",
       "72</span> users found this comment helpful.      1\n",
       "Microscopic polyangiitis                         1\n",
       "Short Stature                                    1\n",
       "Epicondylitis, Tennis Elbow                      1\n",
       "Name: drugName, Length: 884, dtype: int64"
      ]
     },
     "execution_count": 7,
     "metadata": {},
     "output_type": "execute_result"
    }
   ],
   "source": [
    "# Q5:Number of drugs per condition\n",
    "df.groupby('condition')['drugName'].nunique().sort_values(ascending=False)"
   ]
  },
  {
   "cell_type": "code",
   "execution_count": 8,
   "id": "f97c0787-c534-466c-8616-a7554058e8ad",
   "metadata": {},
   "outputs": [
    {
     "data": {
      "text/plain": [
       "drugName\n",
       "Levonorgestrel                       3656\n",
       "Etonogestrel                         3336\n",
       "Ethinyl estradiol / norethindrone    2849\n",
       "Nexplanon                            2156\n",
       "Ethinyl estradiol / norgestimate     2115\n",
       "                                     ... \n",
       "Fludarabine                             1\n",
       "Fludara                                 1\n",
       "FluMist Quadrivalent                    1\n",
       "Floxin                                  1\n",
       "A + D Cracked Skin Relief               1\n",
       "Name: review, Length: 3436, dtype: int64"
      ]
     },
     "execution_count": 8,
     "metadata": {},
     "output_type": "execute_result"
    }
   ],
   "source": [
    "# Q6:Number of patients that searched on a particular drug\n",
    "df3=df.groupby('drugName')['review'].nunique()\n",
    "df3.sort_values(ascending=False)"
   ]
  },
  {
   "cell_type": "code",
   "execution_count": 9,
   "id": "99383253-1f20-460f-9470-6de6e0a9c317",
   "metadata": {},
   "outputs": [
    {
     "data": {
      "text/html": [
       "<div>\n",
       "<style scoped>\n",
       "    .dataframe tbody tr th:only-of-type {\n",
       "        vertical-align: middle;\n",
       "    }\n",
       "\n",
       "    .dataframe tbody tr th {\n",
       "        vertical-align: top;\n",
       "    }\n",
       "\n",
       "    .dataframe thead th {\n",
       "        text-align: right;\n",
       "    }\n",
       "</style>\n",
       "<table border=\"1\" class=\"dataframe\">\n",
       "  <thead>\n",
       "    <tr style=\"text-align: right;\">\n",
       "      <th></th>\n",
       "      <th>Unnamed: 0</th>\n",
       "      <th>rating</th>\n",
       "      <th>usefulCount</th>\n",
       "      <th>sentiment</th>\n",
       "    </tr>\n",
       "    <tr>\n",
       "      <th>date</th>\n",
       "      <th></th>\n",
       "      <th></th>\n",
       "      <th></th>\n",
       "      <th></th>\n",
       "    </tr>\n",
       "  </thead>\n",
       "  <tbody>\n",
       "    <tr>\n",
       "      <th>2008-02-24</th>\n",
       "      <td>495189</td>\n",
       "      <td>30.0</td>\n",
       "      <td>174</td>\n",
       "      <td>1.295833</td>\n",
       "    </tr>\n",
       "    <tr>\n",
       "      <th>2008-02-25</th>\n",
       "      <td>2533714</td>\n",
       "      <td>152.0</td>\n",
       "      <td>1538</td>\n",
       "      <td>2.311907</td>\n",
       "    </tr>\n",
       "    <tr>\n",
       "      <th>2008-02-26</th>\n",
       "      <td>2630521</td>\n",
       "      <td>215.0</td>\n",
       "      <td>2469</td>\n",
       "      <td>-1.106542</td>\n",
       "    </tr>\n",
       "    <tr>\n",
       "      <th>2008-02-27</th>\n",
       "      <td>2796746</td>\n",
       "      <td>152.0</td>\n",
       "      <td>2544</td>\n",
       "      <td>2.248145</td>\n",
       "    </tr>\n",
       "    <tr>\n",
       "      <th>2008-02-28</th>\n",
       "      <td>1190976</td>\n",
       "      <td>69.0</td>\n",
       "      <td>612</td>\n",
       "      <td>0.720119</td>\n",
       "    </tr>\n",
       "    <tr>\n",
       "      <th>...</th>\n",
       "      <td>...</td>\n",
       "      <td>...</td>\n",
       "      <td>...</td>\n",
       "      <td>...</td>\n",
       "    </tr>\n",
       "    <tr>\n",
       "      <th>2017-12-07</th>\n",
       "      <td>447514</td>\n",
       "      <td>13.0</td>\n",
       "      <td>2</td>\n",
       "      <td>-0.294152</td>\n",
       "    </tr>\n",
       "    <tr>\n",
       "      <th>2017-12-09</th>\n",
       "      <td>5587785</td>\n",
       "      <td>296.0</td>\n",
       "      <td>7</td>\n",
       "      <td>2.257465</td>\n",
       "    </tr>\n",
       "    <tr>\n",
       "      <th>2017-12-10</th>\n",
       "      <td>6188981</td>\n",
       "      <td>321.0</td>\n",
       "      <td>5</td>\n",
       "      <td>2.260762</td>\n",
       "    </tr>\n",
       "    <tr>\n",
       "      <th>2017-12-11</th>\n",
       "      <td>8831724</td>\n",
       "      <td>422.0</td>\n",
       "      <td>12</td>\n",
       "      <td>1.028748</td>\n",
       "    </tr>\n",
       "    <tr>\n",
       "      <th>2017-12-12</th>\n",
       "      <td>1138491</td>\n",
       "      <td>65.0</td>\n",
       "      <td>0</td>\n",
       "      <td>0.651557</td>\n",
       "    </tr>\n",
       "  </tbody>\n",
       "</table>\n",
       "<p>3579 rows × 4 columns</p>\n",
       "</div>"
      ],
      "text/plain": [
       "            Unnamed: 0  rating  usefulCount  sentiment\n",
       "date                                                  \n",
       "2008-02-24      495189    30.0          174   1.295833\n",
       "2008-02-25     2533714   152.0         1538   2.311907\n",
       "2008-02-26     2630521   215.0         2469  -1.106542\n",
       "2008-02-27     2796746   152.0         2544   2.248145\n",
       "2008-02-28     1190976    69.0          612   0.720119\n",
       "...                ...     ...          ...        ...\n",
       "2017-12-07      447514    13.0            2  -0.294152\n",
       "2017-12-09     5587785   296.0            7   2.257465\n",
       "2017-12-10     6188981   321.0            5   2.260762\n",
       "2017-12-11     8831724   422.0           12   1.028748\n",
       "2017-12-12     1138491    65.0            0   0.651557\n",
       "\n",
       "[3579 rows x 4 columns]"
      ]
     },
     "execution_count": 9,
     "metadata": {},
     "output_type": "execute_result"
    }
   ],
   "source": [
    "# Q7: Distribution of rating per date/year\n",
    "df['date']=pd.to_datetime(df['date'])\n",
    "df.groupby('date').sum('rating').sort_values('date')"
   ]
  },
  {
   "cell_type": "code",
   "execution_count": 10,
   "id": "030a0b69-f465-41d0-b802-31e1d761e706",
   "metadata": {},
   "outputs": [
    {
     "data": {
      "text/html": [
       "<div>\n",
       "<style scoped>\n",
       "    .dataframe tbody tr th:only-of-type {\n",
       "        vertical-align: middle;\n",
       "    }\n",
       "\n",
       "    .dataframe tbody tr th {\n",
       "        vertical-align: top;\n",
       "    }\n",
       "\n",
       "    .dataframe thead th {\n",
       "        text-align: right;\n",
       "    }\n",
       "</style>\n",
       "<table border=\"1\" class=\"dataframe\">\n",
       "  <thead>\n",
       "    <tr style=\"text-align: right;\">\n",
       "      <th></th>\n",
       "      <th>rating</th>\n",
       "    </tr>\n",
       "    <tr>\n",
       "      <th>year</th>\n",
       "      <th></th>\n",
       "    </tr>\n",
       "  </thead>\n",
       "  <tbody>\n",
       "    <tr>\n",
       "      <th>2008</th>\n",
       "      <td>45966.0</td>\n",
       "    </tr>\n",
       "    <tr>\n",
       "      <th>2009</th>\n",
       "      <td>86543.0</td>\n",
       "    </tr>\n",
       "    <tr>\n",
       "      <th>2010</th>\n",
       "      <td>62395.0</td>\n",
       "    </tr>\n",
       "    <tr>\n",
       "      <th>2011</th>\n",
       "      <td>87424.0</td>\n",
       "    </tr>\n",
       "    <tr>\n",
       "      <th>2012</th>\n",
       "      <td>75524.0</td>\n",
       "    </tr>\n",
       "    <tr>\n",
       "      <th>2013</th>\n",
       "      <td>99108.0</td>\n",
       "    </tr>\n",
       "    <tr>\n",
       "      <th>2014</th>\n",
       "      <td>96419.0</td>\n",
       "    </tr>\n",
       "    <tr>\n",
       "      <th>2015</th>\n",
       "      <td>188240.0</td>\n",
       "    </tr>\n",
       "    <tr>\n",
       "      <th>2016</th>\n",
       "      <td>216377.0</td>\n",
       "    </tr>\n",
       "    <tr>\n",
       "      <th>2017</th>\n",
       "      <td>170176.0</td>\n",
       "    </tr>\n",
       "  </tbody>\n",
       "</table>\n",
       "</div>"
      ],
      "text/plain": [
       "        rating\n",
       "year          \n",
       "2008   45966.0\n",
       "2009   86543.0\n",
       "2010   62395.0\n",
       "2011   87424.0\n",
       "2012   75524.0\n",
       "2013   99108.0\n",
       "2014   96419.0\n",
       "2015  188240.0\n",
       "2016  216377.0\n",
       "2017  170176.0"
      ]
     },
     "execution_count": 10,
     "metadata": {},
     "output_type": "execute_result"
    }
   ],
   "source": [
    "# Q7: Distribution of rating per date/year\n",
    "#making year column\n",
    "df['year']=df['date'].dt.to_period('Y')\n",
    "df4=df[['year','rating']]\n",
    "df4.groupby('year').sum('rating')"
   ]
  },
  {
   "cell_type": "code",
   "execution_count": 14,
   "id": "821f0d7b-e3c7-488a-a7ac-a404526c6b54",
   "metadata": {},
   "outputs": [
    {
     "data": {
      "text/plain": [
       "year\n",
       "2008     5137\n",
       "2009    11636\n",
       "2010     8413\n",
       "2011    11682\n",
       "2012    10007\n",
       "2013    12278\n",
       "2014    12051\n",
       "2015    27164\n",
       "2016    34842\n",
       "2017    28087\n",
       "Freq: Y-DEC, Name: review, dtype: int64"
      ]
     },
     "execution_count": 14,
     "metadata": {},
     "output_type": "execute_result"
    }
   ],
   "source": [
    "# Q8: Distribution of review per year\n",
    "df.groupby(['year'])['review'].count()"
   ]
  },
  {
   "cell_type": "code",
   "execution_count": 15,
   "id": "7ac07d4d-cab2-41d8-916d-90f8845630a8",
   "metadata": {},
   "outputs": [
    {
     "data": {
      "text/plain": [
       "year\n",
       "2008     5137\n",
       "2009    11636\n",
       "2010     8413\n",
       "2011    11682\n",
       "2012    10007\n",
       "2013    12278\n",
       "2014    12051\n",
       "2015    27164\n",
       "2016    34842\n",
       "2017    28087\n",
       "Freq: Y-DEC, Name: review, dtype: int64"
      ]
     },
     "execution_count": 15,
     "metadata": {},
     "output_type": "execute_result"
    }
   ],
   "source": [
    "# Q9: Amount of review per year\n",
    "df.groupby(['year'])['review'].count()"
   ]
  },
  {
   "cell_type": "code",
   "execution_count": null,
   "id": "3c485b78-85eb-431a-ae17-d95fe8082444",
   "metadata": {},
   "outputs": [],
   "source": []
  }
 ],
 "metadata": {
  "kernelspec": {
   "display_name": "Python 3 (ipykernel)",
   "language": "python",
   "name": "python3"
  },
  "language_info": {
   "codemirror_mode": {
    "name": "ipython",
    "version": 3
   },
   "file_extension": ".py",
   "mimetype": "text/x-python",
   "name": "python",
   "nbconvert_exporter": "python",
   "pygments_lexer": "ipython3",
   "version": "3.12.6"
  }
 },
 "nbformat": 4,
 "nbformat_minor": 5
}
